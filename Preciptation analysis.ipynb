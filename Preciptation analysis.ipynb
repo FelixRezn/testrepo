{
    "cells": [
        {
            "cell_type": "markdown",
            "metadata": {},
            "source": "### Description\nThis cell describes the preciptation data"
        },
        {
            "cell_type": "code",
            "execution_count": 1,
            "metadata": {},
            "outputs": [
                {
                    "data": {
                        "text/html": "<div>\n<style scoped>\n    .dataframe tbody tr th:only-of-type {\n        vertical-align: middle;\n    }\n\n    .dataframe tbody tr th {\n        vertical-align: top;\n    }\n\n    .dataframe thead th {\n        text-align: right;\n    }\n</style>\n<table border=\"1\" class=\"dataframe\">\n  <thead>\n    <tr style=\"text-align: right;\">\n      <th></th>\n      <th>Unnamed: 0</th>\n      <th>Date</th>\n      <th>tmax</th>\n      <th>tmin</th>\n      <th>prcp</th>\n    </tr>\n  </thead>\n  <tbody>\n    <tr>\n      <th>0</th>\n      <td>1</td>\n      <td>1894-01-01</td>\n      <td>60.0</td>\n      <td>41.0</td>\n      <td>0.00</td>\n    </tr>\n    <tr>\n      <th>1</th>\n      <td>2</td>\n      <td>1894-01-02</td>\n      <td>58.0</td>\n      <td>50.0</td>\n      <td>0.40</td>\n    </tr>\n    <tr>\n      <th>2</th>\n      <td>3</td>\n      <td>1894-01-03</td>\n      <td>57.0</td>\n      <td>42.0</td>\n      <td>0.00</td>\n    </tr>\n    <tr>\n      <th>3</th>\n      <td>4</td>\n      <td>1894-01-04</td>\n      <td>53.0</td>\n      <td>42.0</td>\n      <td>0.28</td>\n    </tr>\n    <tr>\n      <th>4</th>\n      <td>5</td>\n      <td>1894-01-05</td>\n      <td>50.0</td>\n      <td>38.0</td>\n      <td>0.00</td>\n    </tr>\n  </tbody>\n</table>\n</div>",
                        "text/plain": "   Unnamed: 0        Date  tmax  tmin  prcp\n0           1  1894-01-01  60.0  41.0  0.00\n1           2  1894-01-02  58.0  50.0  0.40\n2           3  1894-01-03  57.0  42.0  0.00\n3           4  1894-01-04  53.0  42.0  0.28\n4           5  1894-01-05  50.0  38.0  0.00"
                    },
                    "execution_count": 1,
                    "metadata": {},
                    "output_type": "execute_result"
                }
            ],
            "source": "# The code was removed by Watson Studio for sharing."
        },
        {
            "cell_type": "code",
            "execution_count": null,
            "metadata": {},
            "outputs": [],
            "source": ""
        }
    ],
    "metadata": {
        "kernelspec": {
            "display_name": "Python 3.7",
            "language": "python",
            "name": "python3"
        },
        "language_info": {
            "codemirror_mode": {
                "name": "ipython",
                "version": 3
            },
            "file_extension": ".py",
            "mimetype": "text/x-python",
            "name": "python",
            "nbconvert_exporter": "python",
            "pygments_lexer": "ipython3",
            "version": "3.7.9"
        }
    },
    "nbformat": 4,
    "nbformat_minor": 1
}